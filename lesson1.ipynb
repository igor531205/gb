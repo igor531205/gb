{
  "nbformat": 4,
  "nbformat_minor": 0,
  "metadata": {
    "colab": {
      "provenance": [],
      "include_colab_link": true
    },
    "kernelspec": {
      "name": "python3",
      "display_name": "Python 3"
    },
    "language_info": {
      "name": "python"
    }
  },
  "cells": [
    {
      "cell_type": "markdown",
      "metadata": {
        "id": "view-in-github",
        "colab_type": "text"
      },
      "source": [
        "<a href=\"https://colab.research.google.com/github/igor531205/gb/blob/hw1/lesson1.ipynb\" target=\"_parent\"><img src=\"https://colab.research.google.com/assets/colab-badge.svg\" alt=\"Open In Colab\"/></a>"
      ]
    },
    {
      "cell_type": "markdown",
      "source": [
        "# Библиотеки Python для Data Science: Numpy, Matplotlib, Scikit-learn."
      ],
      "metadata": {
        "id": "iscFAMUHvtbo"
      }
    },
    {
      "cell_type": "markdown",
      "source": [
        "## Тема “Вычисления с помощью Numpy”"
      ],
      "metadata": {
        "id": "7y4T7FPfRpnA"
      }
    },
    {
      "cell_type": "markdown",
      "source": [
        "### Задание 1\n",
        "Создайте массив Numpy под названием a размером 5x2, то есть состоящий из 5 строк и 2 столбцов. Первый столбец должен содержать числа 1, 2, 3, 3, 1, а второй - числа 6, 8, 11, 10, 7. Будем считать, что каждый столбец - это признак, а строка - наблюдение. Затем найдите среднее значение по каждому признаку, используя метод mean массива Numpy. Результат запишите в массив mean_a, в нем должно быть 2 элемента."
      ],
      "metadata": {
        "id": "9auFmwKTw2K1"
      }
    },
    {
      "cell_type": "code",
      "source": [
        "import numpy as np\n",
        "\n",
        "# Создаем массив Numpy размером 5x2\n",
        "a = np.array([[1, 6],\n",
        "              [2, 8],\n",
        "              [3, 11],\n",
        "              [3, 10],\n",
        "              [1, 7]])\n",
        "\n",
        "# Находим среднее значение по каждому признаку\n",
        "mean_a = np.mean(a, axis=0)\n",
        "\n",
        "print(\"Массив a:\")\n",
        "print(a)\n",
        "print(\"\\nСреднее значение по каждому признаку (mean_a):\")\n",
        "print(mean_a)"
      ],
      "metadata": {
        "colab": {
          "base_uri": "https://localhost:8080/"
        },
        "id": "aIC-dWt9TgvF",
        "outputId": "56f117da-967f-4e32-c92d-6d63d7b75a42"
      },
      "execution_count": 1,
      "outputs": [
        {
          "output_type": "stream",
          "name": "stdout",
          "text": [
            "Массив a:\n",
            "[[ 1  6]\n",
            " [ 2  8]\n",
            " [ 3 11]\n",
            " [ 3 10]\n",
            " [ 1  7]]\n",
            "\n",
            "Среднее значение по каждому признаку (mean_a):\n",
            "[2.  8.4]\n"
          ]
        }
      ]
    },
    {
      "cell_type": "markdown",
      "source": [
        "### Задание 2\n",
        "Вычислите массив a_centered, отняв от значений массива “а” средние значения соответствующих признаков, содержащиеся в массиве mean_a. Вычисление должно производиться в одно действие. Получившийся массив должен иметь размер 5x2."
      ],
      "metadata": {
        "id": "xtAfsucXTyM0"
      }
    },
    {
      "cell_type": "code",
      "source": [
        "# Вычитаем средние значения признаков из каждого элемента массива a\n",
        "a_centered = a - mean_a\n",
        "\n",
        "print(\"Центрированный массив a_centered:\")\n",
        "print(a_centered)"
      ],
      "metadata": {
        "colab": {
          "base_uri": "https://localhost:8080/"
        },
        "id": "fnwjnkBlR3oR",
        "outputId": "1e1be97d-69ea-40a9-ee67-65b6b9f6a5c0"
      },
      "execution_count": 2,
      "outputs": [
        {
          "output_type": "stream",
          "name": "stdout",
          "text": [
            "Центрированный массив a_centered:\n",
            "[[-1.  -2.4]\n",
            " [ 0.  -0.4]\n",
            " [ 1.   2.6]\n",
            " [ 1.   1.6]\n",
            " [-1.  -1.4]]\n"
          ]
        }
      ]
    },
    {
      "cell_type": "markdown",
      "source": [
        "### Задание 3\n",
        "Найдите скалярное произведение столбцов массива a_centered. В результате должна получиться величина _centered_spa. Затем поделите a_centered_sp на N-1, где N - число наблюдений."
      ],
      "metadata": {
        "id": "K2VTQeM1Ul0r"
      }
    },
    {
      "cell_type": "code",
      "source": [
        "# Найдем скалярное произведение столбцов массива a_centered\n",
        "centered_sp = np.dot(a_centered[:, 0], a_centered[:, 1])\n",
        "\n",
        "# Число наблюдений\n",
        "N = a.shape[0]\n",
        "\n",
        "# Делим скалярное произведение на N-1\n",
        "centered_spa = centered_sp / (N - 1)\n",
        "\n",
        "print(\"Скалярное произведение столбцов массива a_centered (centered_sp):\")\n",
        "print(centered_sp)\n",
        "print(\"\\nРезультат деления centered_sp на N-1 (centered_spa):\")\n",
        "print(centered_spa)"
      ],
      "metadata": {
        "colab": {
          "base_uri": "https://localhost:8080/"
        },
        "id": "RJfZNaYQTql4",
        "outputId": "1b4adefc-960b-494c-afeb-aabe75fdbbbb"
      },
      "execution_count": 5,
      "outputs": [
        {
          "output_type": "stream",
          "name": "stdout",
          "text": [
            "Скалярное произведение столбцов массива a_centered (centered_sp):\n",
            "8.0\n",
            "\n",
            "Результат деления centered_sp на N-1 (centered_spa):\n",
            "2.0\n"
          ]
        }
      ]
    },
    {
      "cell_type": "markdown",
      "source": [
        "### Задание 4\n",
        "Число, которое мы получили в конце задания 3 является ковариацией двух признаков, содержащихся в массиве “а”. В задании 4 мы делили сумму произведений центрированных признаков на N-1, а не на N, поэтому полученная нами величина является несмещенной оценкой ковариации.\n",
        "\n",
        "В этом задании проверьте получившееся число, вычислив ковариацию еще одним способом - с помощью функции np.cov. В качестве аргумента m функция np.cov должна принимать транспонированный массив “a”. В получившейся ковариационной матрице (массив Numpy размером 2x2) искомое значение ковариации будет равно элементу в строке с индексом 0 и столбце с индексом 1."
      ],
      "metadata": {
        "id": "TrtJyL9zUvL4"
      }
    },
    {
      "cell_type": "code",
      "source": [
        "# Вычисление ковариационной матрицы с использованием функции np.cov\n",
        "cov_matrix = np.cov(a.T)\n",
        "\n",
        "# Извлечение ковариации из матрицы (элемент в строке 0 и столбце 1)\n",
        "cov_value = cov_matrix[0, 1]\n",
        "\n",
        "print(\"Ковариационная матрица:\")\n",
        "print(cov_matrix)\n",
        "print(\"\\nКовариация, извлеченная из ковариационной матрицы (элемент [0, 1]):\")\n",
        "print(cov_value)"
      ],
      "metadata": {
        "colab": {
          "base_uri": "https://localhost:8080/"
        },
        "id": "k0ayUaq7Tqi6",
        "outputId": "75f38664-33e9-427f-f20f-ad89818c679a"
      },
      "execution_count": 4,
      "outputs": [
        {
          "output_type": "stream",
          "name": "stdout",
          "text": [
            "Ковариационная матрица:\n",
            "[[1.  2. ]\n",
            " [2.  4.3]]\n",
            "\n",
            "Ковариация, извлеченная из ковариационной матрицы (элемент [0, 1]):\n",
            "2.0\n"
          ]
        }
      ]
    },
    {
      "cell_type": "markdown",
      "source": [
        "## Тема “Работа с данными в Pandas”"
      ],
      "metadata": {
        "id": "3ccArNUCV4Mb"
      }
    },
    {
      "cell_type": "markdown",
      "source": [
        "### Задание 1\n",
        "Импортируйте библиотеку Pandas и дайте ей псевдоним pd. Создайте датафрейм authors со столбцами author_id и author_name, в которых соответственно содержатся данные:\n",
        "\n",
        "[1, 2, 3] и ['Тургенев', 'Чехов', 'Островский'].\n",
        "\n",
        "Затем создайте датафрейм book cо столбцами author_id, book_title и price, в которых соответственно содержатся данные:\n",
        "\n",
        "[1, 1, 1, 2, 2, 3, 3],\n",
        "\n",
        "['Отцы и дети', 'Рудин', 'Дворянское гнездо', 'Толстый и тонкий', 'Дама с собачкой', 'Гроза', 'Таланты и поклонники']\n",
        "\n",
        "Нужны prices!\n",
        "\n",
        "[500, 400, 300, 350, 450, 600, 200]."
      ],
      "metadata": {
        "id": "pRAlMFsfVF-E"
      }
    },
    {
      "cell_type": "code",
      "source": [
        "import pandas as pd\n",
        "\n",
        "# Создаем датафрейм authors\n",
        "authors = pd.DataFrame({\n",
        "    'author_id': [1, 2, 3],\n",
        "    'author_name': ['Тургенев', 'Чехов', 'Островский']\n",
        "})\n",
        "\n",
        "# Создаем датафрейм book\n",
        "book = pd.DataFrame({\n",
        "    'author_id': [1, 1, 1, 2, 2, 3, 3],\n",
        "    'book_title': ['Отцы и дети', 'Рудин', 'Дворянское гнездо', 'Толстый и тонкий', 'Дама с собачкой', 'Гроза', 'Таланты и поклонники'],\n",
        "    'prices': [500, 400, 300, 350, 450, 600, 200]\n",
        "})\n",
        "\n",
        "# Выводим созданные датафреймы\n",
        "print(\"Датафрейм authors:\")\n",
        "print(authors)\n",
        "print(\"\\nДатафрейм book:\")\n",
        "print(book)"
      ],
      "metadata": {
        "colab": {
          "base_uri": "https://localhost:8080/"
        },
        "id": "jYZzfkWPTqfz",
        "outputId": "476254a4-90dd-4191-828e-903f99c3f1bb"
      },
      "execution_count": 8,
      "outputs": [
        {
          "output_type": "stream",
          "name": "stdout",
          "text": [
            "Датафрейм authors:\n",
            "   author_id author_name\n",
            "0          1    Тургенев\n",
            "1          2       Чехов\n",
            "2          3  Островский\n",
            "\n",
            "Датафрейм book:\n",
            "   author_id            book_title  prices\n",
            "0          1           Отцы и дети     500\n",
            "1          1                 Рудин     400\n",
            "2          1     Дворянское гнездо     300\n",
            "3          2      Толстый и тонкий     350\n",
            "4          2       Дама с собачкой     450\n",
            "5          3                 Гроза     600\n",
            "6          3  Таланты и поклонники     200\n"
          ]
        }
      ]
    },
    {
      "cell_type": "markdown",
      "source": [
        "### Задание 2\n",
        "Получите датафрейм authors_price, соединив дата фреймы authors и books по полю author_id."
      ],
      "metadata": {
        "id": "QK3BY_mOXH3x"
      }
    },
    {
      "cell_type": "code",
      "source": [
        "# Объединяем датафреймы authors и book по полю author_id\n",
        "authors_price = pd.merge(authors, book, on='author_id')\n",
        "\n",
        "# Выводим получившийся датафрейм authors_price\n",
        "print(\"Датафрейм authors_price:\")\n",
        "print(authors_price)"
      ],
      "metadata": {
        "colab": {
          "base_uri": "https://localhost:8080/"
        },
        "id": "8xq41TW-WgYl",
        "outputId": "899e239c-14dd-4df0-eafa-6a9cb900cd8f"
      },
      "execution_count": 9,
      "outputs": [
        {
          "output_type": "stream",
          "name": "stdout",
          "text": [
            "Датафрейм authors_price:\n",
            "   author_id author_name            book_title  prices\n",
            "0          1    Тургенев           Отцы и дети     500\n",
            "1          1    Тургенев                 Рудин     400\n",
            "2          1    Тургенев     Дворянское гнездо     300\n",
            "3          2       Чехов      Толстый и тонкий     350\n",
            "4          2       Чехов       Дама с собачкой     450\n",
            "5          3  Островский                 Гроза     600\n",
            "6          3  Островский  Таланты и поклонники     200\n"
          ]
        }
      ]
    },
    {
      "cell_type": "markdown",
      "source": [
        "### Задание 3\n",
        "Создайте датафрейм top5, в котором содержатся строки из authors_price с пятью самыми дорогими книгами."
      ],
      "metadata": {
        "id": "nGlXqRPlXewT"
      }
    },
    {
      "cell_type": "code",
      "source": [
        "# Сортируем датафрейм authors_price по убыванию цены\n",
        "sorted_authors_price = authors_price.sort_values(by='prices', ascending=False)\n",
        "\n",
        "# Выбираем пять строк с самыми высокими ценами\n",
        "top5 = sorted_authors_price.head(5)\n",
        "\n",
        "# Выводим получившийся датафрейм top5\n",
        "print(\"Датафрейм top5:\")\n",
        "print(top5)"
      ],
      "metadata": {
        "colab": {
          "base_uri": "https://localhost:8080/"
        },
        "id": "H0v1EA18XgFO",
        "outputId": "51c5b199-4088-4b36-bcf2-0d21fa479bac"
      },
      "execution_count": 11,
      "outputs": [
        {
          "output_type": "stream",
          "name": "stdout",
          "text": [
            "Датафрейм top5:\n",
            "   author_id author_name        book_title  prices\n",
            "5          3  Островский             Гроза     600\n",
            "0          1    Тургенев       Отцы и дети     500\n",
            "4          2       Чехов   Дама с собачкой     450\n",
            "1          1    Тургенев             Рудин     400\n",
            "3          2       Чехов  Толстый и тонкий     350\n"
          ]
        }
      ]
    },
    {
      "cell_type": "markdown",
      "source": [
        "### Задание 4\n",
        "Создайте датафрейм authors_stat на основе информации из authors_price. В датафрейме authors_stat должны быть четыре столбца: author_name, min_price, max_price и mean_price, в которых должны содержаться соответственно имя автора, минимальная, максимальная и средняя цена на книги этого автора."
      ],
      "metadata": {
        "id": "0wcqBfnEX2z0"
      }
    },
    {
      "cell_type": "code",
      "source": [
        "# Группируем данные по author_name и вычисляем минимальную, максимальную и среднюю цену\n",
        "authors_stat = authors_price.groupby('author_name').agg(\n",
        "    min_price=('prices', 'min'),\n",
        "    max_price=('prices', 'max'),\n",
        "    mean_price=('prices', 'mean')\n",
        ").reset_index()\n",
        "\n",
        "# Выводим получившийся датафрейм authors_stat\n",
        "print(\"Датафрейм authors_stat:\")\n",
        "print(authors_stat)"
      ],
      "metadata": {
        "colab": {
          "base_uri": "https://localhost:8080/"
        },
        "id": "RK5jqsj5X31Y",
        "outputId": "dbfe3005-5bc2-4b54-c3c7-9a6d8de87fb9"
      },
      "execution_count": 13,
      "outputs": [
        {
          "output_type": "stream",
          "name": "stdout",
          "text": [
            "Датафрейм authors_stat:\n",
            "  author_name  min_price  max_price  mean_price\n",
            "0  Островский        200        600       400.0\n",
            "1    Тургенев        300        500       400.0\n",
            "2       Чехов        350        450       400.0\n"
          ]
        }
      ]
    },
    {
      "cell_type": "markdown",
      "source": [
        "### Задание 5\n",
        "Создайте новый столбец в датафрейме authors_price под названием cover, в нем будут располагаться данные о том, какая обложка у данной книги - твердая или мягкая. В этот столбец поместите данные из следующего списка:\n",
        "\n",
        "['твердая', 'мягкая', 'мягкая', 'твердая', 'твердая', 'мягкая', 'мягкая'].\n",
        "\n",
        "Просмотрите документацию по функции pd.pivot table с помощью вопросительного знака.\n",
        "\n",
        "Для каждого автора посчитайте суммарную стоимость книг в твердой и мягкой обложке. Используйте для этого функцию pd.pivot_table. При этом столбцы должны называться \"твердая\" и \"мягкая\", а индексами должны быть фамилии авторов. Пропущенные значения стоимостей заполните нулями, при необходимости загрузите библиотеку Numpy.\n",
        "\n",
        "Назовите полученный датасет book_info и сохраните его в формат pickle под названием \"book_info.pkl\". Затем загрузите из этого файла датафрейм и назовите его book_info2. Удостоверьтесь, что датафреймы book_info и book_info2 идентичны."
      ],
      "metadata": {
        "id": "due5c1mgZNeX"
      }
    },
    {
      "cell_type": "code",
      "source": [
        "# Добавляем столбец cover\n",
        "authors_price['cover'] = ['твердая', 'мягкая', 'мягкая', 'твердая', 'твердая', 'мягкая', 'мягкая']\n",
        "\n",
        "# Создание сводной таблицы с суммарной стоимостью книг в твердой и мягкой обложке\n",
        "book_info = pd.pivot_table(authors_price, values='prices', index='author_name', columns='cover', aggfunc='sum', fill_value=0)\n",
        "\n",
        "# Переименование столбцов\n",
        "book_info.columns.name = None\n",
        "\n",
        "# Сохранение датафрейма book_info в файл в формате pickle\n",
        "book_info.to_pickle('book_info.pkl')\n",
        "\n",
        "# Загрузка датафрейма из файла pickle\n",
        "book_info2 = pd.read_pickle('book_info.pkl')\n",
        "\n",
        "# Проверка идентичности датафреймов book_info и book_info2\n",
        "print(\"Датафрейм book_info:\")\n",
        "print(book_info)\n",
        "print(\"\\nДатафрейм book_info2 (загруженный из pickle):\")\n",
        "print(book_info2)\n",
        "\n",
        "# Проверка идентичности датафреймов\n",
        "print(\"\\nДатафреймы идентичны:\", book_info.equals(book_info2))"
      ],
      "metadata": {
        "colab": {
          "base_uri": "https://localhost:8080/"
        },
        "id": "O9QYOLQWZgrY",
        "outputId": "1371122d-2077-433c-cd44-03c47b57ce7f"
      },
      "execution_count": 14,
      "outputs": [
        {
          "output_type": "stream",
          "name": "stdout",
          "text": [
            "Датафрейм book_info:\n",
            "             мягкая  твердая\n",
            "author_name                 \n",
            "Островский      800        0\n",
            "Тургенев        700      500\n",
            "Чехов             0      800\n",
            "\n",
            "Датафрейм book_info2 (загруженный из pickle):\n",
            "             мягкая  твердая\n",
            "author_name                 \n",
            "Островский      800        0\n",
            "Тургенев        700      500\n",
            "Чехов             0      800\n",
            "\n",
            "Датафреймы идентичны: True\n"
          ]
        }
      ]
    }
  ]
}